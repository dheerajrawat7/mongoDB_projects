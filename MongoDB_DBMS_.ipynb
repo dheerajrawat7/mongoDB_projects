{
 "cells": [
  {
   "cell_type": "code",
   "execution_count": 1,
   "id": "99a46edb",
   "metadata": {},
   "outputs": [],
   "source": [
    "import pymongo"
   ]
  },
  {
   "cell_type": "code",
   "execution_count": 12,
   "id": "16ba5f6a-15bc-477e-b177-cea3e67ea6ed",
   "metadata": {},
   "outputs": [],
   "source": [
    "CLient= MongoClient('mongodb://127.0.0.1:27017')"
   ]
  },
  {
   "cell_type": "code",
   "execution_count": 13,
   "id": "db38c4fd",
   "metadata": {},
   "outputs": [],
   "source": [
    "from pymongo import MongoClient\n",
    "from jsonschema import validate\n",
    "\n",
    "student_schema = {\n",
    "    \"type\": \"object\",\n",
    "    \"properties\": {\n",
    "        \"student_id\": {\"type\": \"number\"},\n",
    "        \"name\": {\"type\": \"string\"},\n",
    "        \"email\": {\"type\": \"string\"},\n",
    "        \"DOB\": {\"type\": \"string\", \"format\": \"date-time\"},  \n",
    "        \"address\": {\"type\": \"string\"},\n",
    "        \"phone\": {\"type\": \"number\"}\n",
    "    },\n",
    "    \"required\": [\"student_id\", \"name\", \"email\", \"DOB\", \"address\", \"phone\"]\n",
    "}\n",
    "\n",
    "\n"
   ]
  },
  {
   "cell_type": "code",
   "execution_count": 14,
   "id": "f26f7531",
   "metadata": {},
   "outputs": [],
   "source": [
    "\n",
    "semester_schema = {\n",
    "    \"type\": \"object\",\n",
    "    \"properties\": {\n",
    "        \"semester_id\": {\"type\": \"number\"},\n",
    "         \"semester_number\": {\"type\": \"number\"},\n",
    "        \"start_date\": {\"type\": \"string\", \"format\": \"date-time\"}, \n",
    "         \"end_date\": {\"type\": \"string\", \"format\": \"date-time\"}\n",
    "       \n",
    "    },\n",
    "    \"required\": [\"semester_id\", \"semester_number\", \"start_date\", \"end_date\"]\n",
    "}\n",
    "\n",
    "\n"
   ]
  },
  {
   "cell_type": "code",
   "execution_count": 15,
   "id": "889b2560",
   "metadata": {},
   "outputs": [],
   "source": [
    "exam_schema = {\n",
    "    \"type\": \"object\",\n",
    "    \"properties\": {\n",
    "        \"student_id\": {\"type\": \"number\"},\n",
    "        \"semester_id\": {\"type\": \"number\"},\n",
    "        \"exam_name\": {\"type\": \"string\"},\n",
    "        \"marks\": {\"type\": \"number\"},\n",
    "        \"grade\": {\"type\": \"string\"}       \n",
    "       \n",
    "    },\n",
    "    \"required\": [\"student_id\", \"name\", \"email\", \"DOB\", \"address\", \"phone\"]\n",
    "}"
   ]
  },
  {
   "cell_type": "code",
   "execution_count": null,
   "id": "34bc6949",
   "metadata": {},
   "outputs": [],
   "source": []
  },
  {
   "cell_type": "code",
   "execution_count": 17,
   "id": "660f6bf7",
   "metadata": {},
   "outputs": [],
   "source": [
    "from pymongo import MongoClient\n",
    "from datetime import datetime\n",
    "\n",
    "\n",
    "\n",
    "db = myclient['engineer']  \n",
    "collection = db['students']\n",
    "\n"
   ]
  },
  {
   "cell_type": "code",
   "execution_count": 31,
   "id": "5022b3e1",
   "metadata": {},
   "outputs": [
    {
     "name": "stdout",
     "output_type": "stream",
     "text": [
      "Inserted student record with ID: 660f9aa7ab0010ec6b6c6efb\n",
      "Inserted student record with ID: 660f9aa7ab0010ec6b6c6efc\n",
      "Inserted student record with ID: 660f9aa7ab0010ec6b6c6efd\n",
      "Inserted student record with ID: 660f9aa7ab0010ec6b6c6efe\n",
      "Inserted student record with ID: 660f9aa7ab0010ec6b6c6eff\n"
     ]
    }
   ],
   "source": [
    "from pymongo import MongoClient\n",
    "from datetime import datetime\n",
    "from jsonschema import validate, ValidationError\n",
    "\n",
    "myclient = pymongo.MongoClient(\"mongodb://localhost:27017/\")\n",
    "db = myclient['engineer']  \n",
    "collection = db['students'] \n",
    "\n",
    "\n",
    "student_schema = {\n",
    "    \"type\": \"object\",\n",
    "    \"properties\": {\n",
    "        \"student_id\": {\"type\": \"number\"},\n",
    "        \"name\": {\"type\": \"string\"},\n",
    "        \"email\": {\"type\": \"string\"},\n",
    "        \"DOB\": {\"type\": \"string\", \"format\": \"date-time\"},  \n",
    "        \"address\": {\"type\": \"string\"},\n",
    "        \"phone\": {\"type\": \"integer\"}\n",
    "    },\n",
    "    \"required\": [\"student_id\", \"name\", \"email\", \"DOB\", \"address\", \"phone\"]\n",
    "}\n",
    "\n",
    "\n",
    "\n",
    "def insert_student(student):\n",
    "    try:\n",
    "        validate(instance=student, schema=student_schema)\n",
    "        \n",
    "        result = collection.insert_one(student)\n",
    "        \n",
    "        print(\"Inserted student record with ID:\", result.inserted_id)\n",
    "    except ValidationError as e:\n",
    "        print(\"Validation Error:\", e)\n",
    "\n",
    "\n",
    "student1 = {\n",
    "    \"name\": \"harshit rawat\",\n",
    "    \"student_id\":1,\n",
    "    \"email\": \"hr1@gmail.com\",\n",
    "    \"DOB\": \"2002-10-14T00:00:00\",  \n",
    "    \"address\": \"2122 alma street \",\n",
    "    \"phone\": 8007738309\n",
    "}\n",
    "\n",
    "student2 = {\n",
    "    \"name\": \"mayank rawat\",\n",
    "    \"student_id\":2,\n",
    "    \"email\": \"myk@gmail.com\",\n",
    "    \"DOB\": \"2000-02-01T00:00:00\",  \n",
    "    \"address\": \"2450 sushant street\",\n",
    "    \"phone\": 9007738550\n",
    "}\n",
    "\n",
    "student3 = {\n",
    "    \"name\": \"akhilesh kunwar\",\n",
    "    \"student_id\":3,\n",
    "    \"email\": \"akhil2@gmail.com\",\n",
    "    \"DOB\": \"2012-02-14T00:00:00\",  \n",
    "    \"address\": \"2122 east street\",\n",
    "    \"phone\": 4407744380\n",
    "}\n",
    "\n",
    "student4 = {\n",
    "    \"name\": \"Somendra saini\",\n",
    "    \"student_id\":4,\n",
    "    \"email\": \"somi1@gmail.com\",\n",
    "    \"DOB\": \"2000-10-24T00:00:00\",  \n",
    "    \"address\": \"4488 west street \",\n",
    "    \"phone\": 6004851380\n",
    "}\n",
    "student5 = {\n",
    "    \"name\": \"Shail sankar\",\n",
    "    \"student_id\":4,\n",
    "    \"email\": \"sss1@gmail.com\",\n",
    "    \"DOB\": \"2000-10-24T00:00:00\",  \n",
    "    \"address\": \"4488 west street \",\n",
    "    \"phone\": 6999851380\n",
    "}    \n",
    "\n",
    "\n",
    "insert_student(student1)\n",
    "insert_student(student2)\n",
    "insert_student(student3)\n",
    "insert_student(student4)\n",
    "insert_student(student5)\n",
    "\n",
    "\n",
    "\n",
    "\n"
   ]
  },
  {
   "cell_type": "code",
   "execution_count": 40,
   "id": "53f87c32",
   "metadata": {},
   "outputs": [
    {
     "name": "stdout",
     "output_type": "stream",
     "text": [
      "Inserted IDs: [ObjectId('660f9f80ab0010ec6b6c6f29'), ObjectId('660f9f80ab0010ec6b6c6f2a'), ObjectId('660f9f80ab0010ec6b6c6f2b'), ObjectId('660f9f80ab0010ec6b6c6f2c'), ObjectId('660f9f80ab0010ec6b6c6f2d')]\n",
      "[{'semester_id': 1, 'semester_number': 123456, 'start_date': '2023-04-12', 'end_date': '2023-05-15', '_id': ObjectId('660f9f80ab0010ec6b6c6f29')}, {'semester_id': 2, 'semester_number': 123457, 'start_date': '2023-08-15', 'end_date': '2023-12-15', '_id': ObjectId('660f9f80ab0010ec6b6c6f2a')}, {'semester_id': 3, 'semester_number': 123458, 'start_date': '2023-09-15', 'end_date': '2024-03-15', '_id': ObjectId('660f9f80ab0010ec6b6c6f2b')}, {'semester_id': 4, 'semester_number': 123459, 'start_date': '2024-04-15', 'end_date': '2024-07-15', '_id': ObjectId('660f9f80ab0010ec6b6c6f2c')}, {'semester_id': 5, 'semester_number': 123450, 'start_date': '2023-08-15', 'end_date': '2023-12-15', '_id': ObjectId('660f9f80ab0010ec6b6c6f2d')}]\n"
     ]
    }
   ],
   "source": [
    "\n",
    "db = client[\"engineer\"]\n",
    "\n",
    "semester_collection = db[\"semester\"]\n",
    "\n",
    "semester_data = [\n",
    "    {\"semester_id\": 1, \"semester_number\": 123456,\"start_date\":\"2023-04-12\",\"end_date\": \"2023-05-15\"},\n",
    "    {\"semester_id\":2,\"semester_number\":123457, \"start_date\": \"2023-08-15\", \"end_date\": \"2023-12-15\"},\n",
    "    {\"semester_id\":3,\"semester_number\":123458, \"start_date\": \"2023-09-15\", \"end_date\": \"2024-03-15\"},\n",
    "    {\"semester_id\":4,\"semester_number\":123459, \"start_date\": \"2024-04-15\", \"end_date\": \"2024-07-15\"},\n",
    "    {\"semester_id\":5,\"semester_number\":123450, \"start_date\": \"2023-08-15\", \"end_date\": \"2023-12-15\"},\n",
    "]\n",
    "\n",
    "\n",
    "result = semester_collection.insert_many(semester_data)\n",
    "\n",
    "print(\"Inserted IDs:\", result.inserted_ids)\n",
    "print(semester_data)\n"
   ]
  },
  {
   "cell_type": "code",
   "execution_count": 39,
   "id": "20a1194f",
   "metadata": {},
   "outputs": [
    {
     "name": "stdout",
     "output_type": "stream",
     "text": [
      "Data inserted into 'exams' collection.\n",
      "[{'student_id': 1, 'semester_id': '123456', 'exam_name': 'english', 'marks': 85, 'grade': 'A', '_id': ObjectId('660f9f7cab0010ec6b6c6f23')}, {'student_id': 2, 'semester_id': '123456', 'exam_name': 'english', 'marks': 55, 'grade': 'B', '_id': ObjectId('660f9f7cab0010ec6b6c6f24')}, {'student_id': 3, 'semester_id': '123458', 'exam_name': 'hindi', 'marks': 95, 'grade': 'A', '_id': ObjectId('660f9f7cab0010ec6b6c6f25')}, {'student_id': 4, 'semester_id': '123457', 'exam_name': 'math', 'marks': 65, 'grade': 'A', '_id': ObjectId('660f9f7cab0010ec6b6c6f26')}, {'student_id': 5, 'semester_id': '123450', 'exam_name': 'physics', 'marks': 85, 'grade': 'A', '_id': ObjectId('660f9f7cab0010ec6b6c6f27')}, {'student_id': 6, 'semester_id': '123456', 'exam_name': 'drawing', 'marks': 85, 'grade': 'A', '_id': ObjectId('660f9f7cab0010ec6b6c6f28')}]\n"
     ]
    }
   ],
   "source": [
    "#7th question\n",
    "db = client[\"engineer\"]\n",
    "exams_collection = db[\"exams\"]\n",
    "\n",
    "\n",
    "exam_data = [\n",
    "    {\"student_id\": 1, \"semester_id\": \"123456\",\"exam_name\":\"english\", \"marks\": 85,\"grade\":\"A\"},\n",
    "    {\"student_id\": 2,\"semester_id\": \"123456\",\"exam_name\":\"english\", \"marks\": 55,\"grade\":\"B\"},\n",
    "    {\"student_id\": 3, \"semester_id\": \"123458\",\"exam_name\":\"hindi\", \"marks\": 95,\"grade\":\"A\"},\n",
    "    {\"student_id\": 4, \"semester_id\": \"123457\",\"exam_name\":\"math\", \"marks\": 65,\"grade\":\"A\"},\n",
    "    {\"student_id\": 5, \"semester_id\": \"123450\",\"exam_name\":\"physics\", \"marks\": 85,\"grade\":\"A\"},\n",
    "    {\"student_id\": 6, \"semester_id\": \"123456\",\"exam_name\":\"drawing\", \"marks\": 85,\"grade\":\"A\"},\n",
    "   \n",
    "]\n",
    "\n",
    "exams_collection.insert_many(exam_data)\n",
    "print(\"Data inserted into 'exams' collection.\")\n",
    "print(exam_data)\n"
   ]
  },
  {
   "cell_type": "code",
   "execution_count": 51,
   "id": "301bff4e",
   "metadata": {},
   "outputs": [
    {
     "name": "stdout",
     "output_type": "stream",
     "text": [
      "All exams for student with ID 1:\n",
      "{'_id': ObjectId('660f9da4ab0010ec6b6c6f12'), 'student_id': 1, 'subject': 'Math', 'score': 85}\n",
      "{'_id': ObjectId('660f9da4ab0010ec6b6c6f13'), 'student_id': 1, 'subject': 'Physics', 'score': 78}\n",
      "{'_id': ObjectId('660f9da4ab0010ec6b6c6f14'), 'student_id': 1, 'subject': 'Chemistry', 'score': 90}\n",
      "{'_id': ObjectId('660f9f6dab0010ec6b6c6f1d'), 'student_id': 1, 'semester_id': '123456', 'exam_name': 'english', 'marks': 85, 'grade': 'A'}\n",
      "{'_id': ObjectId('660f9f7cab0010ec6b6c6f23'), 'student_id': 1, 'semester_id': '123456', 'exam_name': 'english', 'marks': 85, 'grade': 'A'}\n"
     ]
    }
   ],
   "source": [
    "#8 th question\n",
    "import pymongo\n",
    "client= pymongo.MongoClient(\"mongodb://localhost:27017/\")\n",
    "db=client[\"engineer\"]\n",
    "exams_collection=db[\"exams\"]\n",
    "\n",
    "query={'student_id':1}\n",
    "student_exams = exams_collection.find(query)\n",
    "\n",
    "\n",
    "print(f\"All exams for student with ID {student_id}:\")\n",
    "for exam in student_exams:\n",
    "    print(exam)"
   ]
  },
  {
   "cell_type": "code",
   "execution_count": 54,
   "id": "38f80a21",
   "metadata": {},
   "outputs": [
    {
     "name": "stdout",
     "output_type": "stream",
     "text": [
      "Highest marks obtained in exams: 92\n"
     ]
    }
   ],
   "source": [
    "#9th question\n",
    "db=client[\"engineer\"]\n",
    "exams_collection=db[\"exams\"]\n",
    "pipeline = [\n",
    "    {\"$group\": {\"_id\": None, \"max_marks\": {\"$max\": \"$score\"}}}\n",
    "]\n",
    "\n",
    "# Execute the aggregation pipeline\n",
    "result = exams_collection.aggregate(pipeline)\n",
    "\n",
    "# Extract the maximum marks from the result\n",
    "max_marks = list(result)[0][\"max_marks\"]\n",
    "\n",
    "# Print the result\n",
    "print(\"Highest marks obtained in exams:\", max_marks)"
   ]
  },
  {
   "cell_type": "code",
   "execution_count": 55,
   "id": "f17f02d5",
   "metadata": {},
   "outputs": [
    {
     "name": "stdout",
     "output_type": "stream",
     "text": [
      "Exams with marks greater than 85:\n",
      "{'_id': ObjectId('660f9da4ab0010ec6b6c6f14'), 'student_id': 1, 'subject': 'Chemistry', 'score': 90}\n",
      "{'_id': ObjectId('660f9da4ab0010ec6b6c6f15'), 'student_id': 2, 'subject': 'Math', 'score': 92}\n",
      "{'_id': ObjectId('660f9da4ab0010ec6b6c6f16'), 'student_id': 2, 'subject': 'Physics', 'score': 88}\n"
     ]
    }
   ],
   "source": [
    "#10 th question \n",
    "threshold_score = 85\n",
    "\n",
    "# Query to find exams with marks greater than 85\n",
    "query = {\"score\": {\"$gt\": threshold_score}}\n",
    "exams_greater_than_85 = exams_collection.find(query)\n",
    "\n",
    "print(\"Exams with marks greater than 85:\")\n",
    "for exam in exams_greater_than_85:\n",
    "    print(exam)"
   ]
  },
  {
   "cell_type": "code",
   "execution_count": 56,
   "id": "be9d586a",
   "metadata": {},
   "outputs": [
    {
     "name": "stdout",
     "output_type": "stream",
     "text": [
      "Total marks obtained in all exams: 518\n"
     ]
    }
   ],
   "source": [
    "#11 th question\n",
    "\n",
    "db = client[\"engineer\"]\n",
    "exams_collection = db[\"exams\"]\n",
    "pipeline = [\n",
    "    {\"$group\": {\"_id\": None, \"total_marks\": {\"$sum\": \"$score\"}}}\n",
    "]\n",
    "\n",
    "result = exams_collection.aggregate(pipeline)\n",
    "\n",
    "# Extract the total marks from the result\n",
    "total_marks = list(result)[0][\"total_marks\"]\n",
    "\n",
    "# Print the result\n",
    "print(\"Total marks obtained in all exams:\", total_marks)\n"
   ]
  },
  {
   "cell_type": "code",
   "execution_count": 57,
   "id": "690506c1",
   "metadata": {},
   "outputs": [
    {
     "name": "stdout",
     "output_type": "stream",
     "text": [
      "Students with the highest marks in each semester:\n",
      "{'max_score': 92, 'student_id': 1, 'semester': None}\n"
     ]
    }
   ],
   "source": [
    "#12 th questions\n",
    "pipeline = [\n",
    "    {\"$group\": {\"_id\": \"$semester\", \"max_score\": {\"$max\": \"$score\"}, \"student_id\": {\"$first\": \"$student_id\"}}},\n",
    "    {\"$project\": {\"_id\": 0, \"semester\": \"$_id\", \"max_score\": 1, \"student_id\": 1}}\n",
    "]\n",
    "\n",
    "result = exams_collection.aggregate(pipeline)\n",
    "\n",
    "# Print the result\n",
    "print(\"Students with the highest marks in each semester:\")\n",
    "for doc in result:\n",
    "    print(doc)"
   ]
  },
  {
   "cell_type": "code",
   "execution_count": null,
   "id": "ad4ebf17",
   "metadata": {},
   "outputs": [],
   "source": []
  },
  {
   "cell_type": "code",
   "execution_count": null,
   "id": "4203321f",
   "metadata": {},
   "outputs": [],
   "source": []
  },
  {
   "cell_type": "code",
   "execution_count": null,
   "id": "5042c4a6",
   "metadata": {},
   "outputs": [],
   "source": []
  },
  {
   "cell_type": "code",
   "execution_count": null,
   "id": "55617207",
   "metadata": {},
   "outputs": [],
   "source": []
  },
  {
   "cell_type": "code",
   "execution_count": null,
   "id": "24cdd55c",
   "metadata": {},
   "outputs": [],
   "source": []
  }
 ],
 "metadata": {
  "kernelspec": {
   "display_name": "Python 3 (ipykernel)",
   "language": "python",
   "name": "python3"
  },
  "language_info": {
   "codemirror_mode": {
    "name": "ipython",
    "version": 3
   },
   "file_extension": ".py",
   "mimetype": "text/x-python",
   "name": "python",
   "nbconvert_exporter": "python",
   "pygments_lexer": "ipython3",
   "version": "3.11.7"
  }
 },
 "nbformat": 4,
 "nbformat_minor": 5
}
