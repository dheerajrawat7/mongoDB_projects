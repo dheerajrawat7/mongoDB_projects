{
 "cells": [
  {
   "cell_type": "code",
   "execution_count": 5,
   "id": "4793fb2d",
   "metadata": {},
   "outputs": [
    {
     "name": "stdout",
     "output_type": "stream",
     "text": [
      "Collecting jsonschema\n",
      "  Obtaining dependency information for jsonschema from https://files.pythonhosted.org/packages/39/9d/b035d024c62c85f2e2d4806a59ca7b8520307f34e0932fbc8cc75fe7b2d9/jsonschema-4.21.1-py3-none-any.whl.metadata\n",
      "  Downloading jsonschema-4.21.1-py3-none-any.whl.metadata (7.8 kB)\n",
      "Collecting attrs>=22.2.0 (from jsonschema)\n",
      "  Obtaining dependency information for attrs>=22.2.0 from https://files.pythonhosted.org/packages/e0/44/827b2a91a5816512fcaf3cc4ebc465ccd5d598c45cefa6703fcf4a79018f/attrs-23.2.0-py3-none-any.whl.metadata\n",
      "  Downloading attrs-23.2.0-py3-none-any.whl.metadata (9.5 kB)\n",
      "Collecting jsonschema-specifications>=2023.03.6 (from jsonschema)\n",
      "  Obtaining dependency information for jsonschema-specifications>=2023.03.6 from https://files.pythonhosted.org/packages/ee/07/44bd408781594c4d0a027666ef27fab1e441b109dc3b76b4f836f8fd04fe/jsonschema_specifications-2023.12.1-py3-none-any.whl.metadata\n",
      "  Downloading jsonschema_specifications-2023.12.1-py3-none-any.whl.metadata (3.0 kB)\n",
      "Collecting referencing>=0.28.4 (from jsonschema)\n",
      "  Obtaining dependency information for referencing>=0.28.4 from https://files.pythonhosted.org/packages/42/8e/ae1de7b12223986e949bdb886c004de7c304b6fa94de5b87c926c1099656/referencing-0.34.0-py3-none-any.whl.metadata\n",
      "  Downloading referencing-0.34.0-py3-none-any.whl.metadata (2.8 kB)\n",
      "Collecting rpds-py>=0.7.1 (from jsonschema)\n",
      "  Obtaining dependency information for rpds-py>=0.7.1 from https://files.pythonhosted.org/packages/a8/de/68280c51afdb241111dec873dd7d457986adfd9fd5225494eee0c4a3b9a3/rpds_py-0.18.0-cp311-none-win_amd64.whl.metadata\n",
      "  Downloading rpds_py-0.18.0-cp311-none-win_amd64.whl.metadata (4.2 kB)\n",
      "Downloading jsonschema-4.21.1-py3-none-any.whl (85 kB)\n",
      "   ---------------------------------------- 0.0/85.5 kB ? eta -:--:--\n",
      "   ---- ----------------------------------- 10.2/85.5 kB ? eta -:--:--\n",
      "   ---------------------------------------- 85.5/85.5 kB 1.2 MB/s eta 0:00:00\n",
      "Downloading attrs-23.2.0-py3-none-any.whl (60 kB)\n",
      "   ---------------------------------------- 0.0/60.8 kB ? eta -:--:--\n",
      "   ---------------------------------------- 60.8/60.8 kB 3.4 MB/s eta 0:00:00\n",
      "Downloading jsonschema_specifications-2023.12.1-py3-none-any.whl (18 kB)\n",
      "Downloading referencing-0.34.0-py3-none-any.whl (26 kB)\n",
      "Downloading rpds_py-0.18.0-cp311-none-win_amd64.whl (206 kB)\n",
      "   ---------------------------------------- 0.0/206.7 kB ? eta -:--:--\n",
      "   --------------------------------- ------ 174.1/206.7 kB 5.3 MB/s eta 0:00:01\n",
      "   ---------------------------------------- 206.7/206.7 kB 4.2 MB/s eta 0:00:00\n",
      "Installing collected packages: rpds-py, attrs, referencing, jsonschema-specifications, jsonschema\n",
      "Successfully installed attrs-23.2.0 jsonschema-4.21.1 jsonschema-specifications-2023.12.1 referencing-0.34.0 rpds-py-0.18.0\n",
      "Note: you may need to restart the kernel to use updated packages.\n"
     ]
    },
    {
     "name": "stderr",
     "output_type": "stream",
     "text": [
      "  WARNING: The script jsonschema.exe is installed in 'c:\\Users\\dheer\\AppData\\Local\\Programs\\Python\\Python311\\Scripts' which is not on PATH.\n",
      "  Consider adding this directory to PATH or, if you prefer to suppress this warning, use --no-warn-script-location.\n",
      "\n",
      "[notice] A new release of pip is available: 23.2.1 -> 24.0\n",
      "[notice] To update, run: python.exe -m pip install --upgrade pip\n"
     ]
    }
   ],
   "source": [
    "pip install jsonschema"
   ]
  },
  {
   "cell_type": "code",
   "execution_count": 2,
   "id": "99a46edb",
   "metadata": {},
   "outputs": [],
   "source": [
    "import pymongo"
   ]
  },
  {
   "cell_type": "code",
   "execution_count": 13,
   "id": "16ba5f6a-15bc-477e-b177-cea3e67ea6ed",
   "metadata": {},
   "outputs": [],
   "source": [
    "Client= MongoClient('mongodb://127.0.0.1:27017')"
   ]
  },
  {
   "cell_type": "code",
   "execution_count": 14,
   "id": "db38c4fd",
   "metadata": {},
   "outputs": [],
   "source": [
    "from pymongo import MongoClient\n",
    "from jsonschema import validate\n",
    "\n",
    "student_schema = {\n",
    "    \"type\": \"object\",\n",
    "    \"properties\": {\n",
    "        \"student_id\": {\"type\": \"number\"},\n",
    "        \"name\": {\"type\": \"string\"},\n",
    "        \"email\": {\"type\": \"string\"},\n",
    "        \"DOB\": {\"type\": \"string\", \"format\": \"date-time\"},  \n",
    "        \"address\": {\"type\": \"string\"},\n",
    "        \"phone\": {\"type\": \"number\"}\n",
    "    },\n",
    "    \"required\": [\"student_id\", \"name\", \"email\", \"DOB\", \"address\", \"phone\"]\n",
    "}\n",
    "\n",
    "\n"
   ]
  },
  {
   "cell_type": "code",
   "execution_count": 15,
   "id": "f26f7531",
   "metadata": {},
   "outputs": [],
   "source": [
    "\n",
    "semester_schema = {\n",
    "    \"type\": \"object\",\n",
    "    \"properties\": {\n",
    "        \"semester_id\": {\"type\": \"number\"},\n",
    "         \"semester_number\": {\"type\": \"number\"},\n",
    "        \"start_date\": {\"type\": \"string\", \"format\": \"date-time\"}, \n",
    "         \"end_date\": {\"type\": \"string\", \"format\": \"date-time\"}\n",
    "       \n",
    "    },\n",
    "    \"required\": [\"semester_id\", \"semester_number\", \"start_date\", \"end_date\"]\n",
    "}\n",
    "\n",
    "\n"
   ]
  },
  {
   "cell_type": "code",
   "execution_count": 16,
   "id": "889b2560",
   "metadata": {},
   "outputs": [],
   "source": [
    "exam_schema = {\n",
    "    \"type\": \"object\",\n",
    "    \"properties\": {\n",
    "        \"student_id\": {\"type\": \"number\"},\n",
    "        \"semester_id\": {\"type\": \"number\"},\n",
    "        \"exam_name\": {\"type\": \"string\"},\n",
    "        \"marks\": {\"type\": \"number\"},\n",
    "        \"grade\": {\"type\": \"string\"}       \n",
    "       \n",
    "    },\n",
    "    \"required\": [\"student_id\", \"name\", \"email\", \"DOB\", \"address\", \"phone\"]\n",
    "}"
   ]
  },
  {
   "cell_type": "code",
   "execution_count": 17,
   "id": "660f6bf7",
   "metadata": {},
   "outputs": [],
   "source": [
    "from pymongo import MongoClient\n",
    "from datetime import datetime\n",
    "\n",
    "\n",
    "\n",
    "db =Client['engineer']  \n",
    "collection = db['students']\n",
    "\n"
   ]
  },
  {
   "cell_type": "code",
   "execution_count": 24,
   "id": "5022b3e1",
   "metadata": {},
   "outputs": [
    {
     "name": "stdout",
     "output_type": "stream",
     "text": [
      "Inserted student record with ID: 66155052c46e29a20269ff10\n",
      "Inserted student record with ID: 66155052c46e29a20269ff11\n",
      "Inserted student record with ID: 66155052c46e29a20269ff12\n",
      "Inserted student record with ID: 66155052c46e29a20269ff13\n",
      "Inserted student record with ID: 66155052c46e29a20269ff14\n"
     ]
    }
   ],
   "source": [
    "from pymongo import MongoClient\n",
    "from datetime import datetime\n",
    "from jsonschema import validate, ValidationError\n",
    "\n",
    "myclient = pymongo.MongoClient(\"mongodb://localhost:27017/\")\n",
    "db = Client['engineer']  \n",
    "collection = db['students'] \n",
    "\n",
    "\n",
    "student_schema = {\n",
    "    \"type\": \"object\",\n",
    "    \"properties\": {\n",
    "        \"student_id\": {\"type\": \"number\"},\n",
    "        \"name\": {\"type\": \"string\"},\n",
    "        \"email\": {\"type\": \"string\"},\n",
    "        \"DOB\": {\"type\": \"string\", \"format\": \"date-time\"},  \n",
    "        \"address\": {\"type\": \"string\"},\n",
    "        \"phone\": {\"type\": \"integer\"}\n",
    "    },\n",
    "    \"required\": [\"student_id\", \"name\", \"email\", \"DOB\", \"address\", \"phone\"]\n",
    "}\n",
    "\n",
    "\n",
    "\n",
    "def insert_student(student):\n",
    "    try:\n",
    "        validate(instance=student, schema=student_schema)\n",
    "        \n",
    "        result = collection.insert_one(student)\n",
    "        \n",
    "        print(\"Inserted student record with ID:\", result.inserted_id)\n",
    "    except ValidationError as e:\n",
    "        print(\"Validation Error:\", e)\n",
    "\n",
    "\n",
    "student1 = {\n",
    "    \"name\":\"Dheeraj Rawat\",\n",
    "    \"student_id\":1,\n",
    "    \"email\": \"hr1@gmail.com\",\n",
    "    \"DOB\": \"2002-10-14T00:00:00\",  \n",
    "    \"address\": \"2122 alma street \",\n",
    "    \"phone\": 8007738309\n",
    "}\n",
    "\n",
    "student2 = {\n",
    "    \"name\": \"mayank rawat\",\n",
    "    \"student_id\":2,\n",
    "    \"email\": \"myk@gmail.com\",\n",
    "    \"DOB\": \"2000-02-01T00:00:00\",  \n",
    "    \"address\": \"2450 sushant street\",\n",
    "    \"phone\": 9007738550\n",
    "}\n",
    "\n",
    "student3 = {\n",
    "    \"name\": \"akhilesh kunwar\",\n",
    "    \"student_id\":3,\n",
    "    \"email\": \"akhil2@gmail.com\",\n",
    "    \"DOB\": \"2012-02-14T00:00:00\",  \n",
    "    \"address\": \"2122 east street\",\n",
    "    \"phone\": 4407744380\n",
    "}\n",
    "\n",
    "student4 = {\n",
    "    \"name\": \"Somendra saini\",\n",
    "    \"student_id\":4,\n",
    "    \"email\": \"somi1@gmail.com\",\n",
    "    \"DOB\": \"2000-10-24T00:00:00\",  \n",
    "    \"address\": \"4488 west street \",\n",
    "    \"phone\": 6004851380\n",
    "}\n",
    "student5 = {\n",
    "    \"name\": \"nitish kumar\",\n",
    "    \"student_id\":5,\n",
    "    \"email\": \"sss1@gmail.com\",\n",
    "    \"DOB\": \"2000-10-24T00:00:00\",  \n",
    "    \"address\": \"4488 west street \",\n",
    "    \"phone\": 6999851380\n",
    "}    \n",
    "\n",
    "\n",
    "insert_student(student1)\n",
    "insert_student(student2)\n",
    "insert_student(student3)\n",
    "insert_student(student4)\n",
    "insert_student(student5)\n",
    "\n",
    "\n",
    "\n",
    "\n"
   ]
  },
  {
   "cell_type": "code",
   "execution_count": 19,
   "id": "53f87c32",
   "metadata": {},
   "outputs": [
    {
     "name": "stdout",
     "output_type": "stream",
     "text": [
      "Inserted IDs: [ObjectId('66154fdbc46e29a20269ff03'), ObjectId('66154fdbc46e29a20269ff04'), ObjectId('66154fdbc46e29a20269ff05'), ObjectId('66154fdbc46e29a20269ff06'), ObjectId('66154fdbc46e29a20269ff07')]\n",
      "[{'semester_id': 1, 'semester_number': 123456, 'start_date': '2023-04-12', 'end_date': '2023-05-15', '_id': ObjectId('66154fdbc46e29a20269ff03')}, {'semester_id': 2, 'semester_number': 123457, 'start_date': '2023-08-15', 'end_date': '2023-12-15', '_id': ObjectId('66154fdbc46e29a20269ff04')}, {'semester_id': 3, 'semester_number': 123458, 'start_date': '2023-09-15', 'end_date': '2024-03-15', '_id': ObjectId('66154fdbc46e29a20269ff05')}, {'semester_id': 4, 'semester_number': 123459, 'start_date': '2024-04-15', 'end_date': '2024-07-15', '_id': ObjectId('66154fdbc46e29a20269ff06')}, {'semester_id': 5, 'semester_number': 123450, 'start_date': '2023-08-15', 'end_date': '2023-12-15', '_id': ObjectId('66154fdbc46e29a20269ff07')}]\n"
     ]
    }
   ],
   "source": [
    "\n",
    "db = Client[\"engineer\"]\n",
    "\n",
    "semester_collection = db[\"semester\"]\n",
    "\n",
    "semester_data = [\n",
    "    {\"semester_id\": 1, \"semester_number\": 123456,\"start_date\":\"2023-04-12\",\"end_date\": \"2023-05-15\"},\n",
    "    {\"semester_id\":2,\"semester_number\":123457, \"start_date\": \"2023-08-15\", \"end_date\": \"2023-12-15\"},\n",
    "    {\"semester_id\":3,\"semester_number\":123458, \"start_date\": \"2023-09-15\", \"end_date\": \"2024-03-15\"},\n",
    "    {\"semester_id\":4,\"semester_number\":123459, \"start_date\": \"2024-04-15\", \"end_date\": \"2024-07-15\"},\n",
    "    {\"semester_id\":5,\"semester_number\":123450, \"start_date\": \"2023-08-15\", \"end_date\": \"2023-12-15\"},\n",
    "]\n",
    "\n",
    "\n",
    "result = semester_collection.insert_many(semester_data)\n",
    "\n",
    "print(\"Inserted IDs:\", result.inserted_ids)\n",
    "print(semester_data)\n"
   ]
  },
  {
   "cell_type": "code",
   "execution_count": 22,
   "id": "20a1194f",
   "metadata": {},
   "outputs": [
    {
     "name": "stdout",
     "output_type": "stream",
     "text": [
      "Data inserted into 'exams' collection.\n",
      "[{'student_id': 1, 'semester_id': '123456', 'exam_name': 'english', 'marks': 85, 'grade': 'A', '_id': ObjectId('66154ff0c46e29a20269ff08')}, {'student_id': 2, 'semester_id': '123456', 'exam_name': 'english', 'marks': 55, 'grade': 'B', '_id': ObjectId('66154ff0c46e29a20269ff09')}, {'student_id': 3, 'semester_id': '123458', 'exam_name': 'hindi', 'marks': 95, 'grade': 'A', '_id': ObjectId('66154ff0c46e29a20269ff0a')}, {'student_id': 4, 'semester_id': '123457', 'exam_name': 'math', 'marks': 65, 'grade': 'A', '_id': ObjectId('66154ff0c46e29a20269ff0b')}, {'student_id': 5, 'semester_id': '123450', 'exam_name': 'physics', 'marks': 85, 'grade': 'A', '_id': ObjectId('66154ff0c46e29a20269ff0c')}, {'student_id': 6, 'semester_id': '123456', 'exam_name': 'drawing', 'marks': 85, 'grade': 'A', '_id': ObjectId('66154ff0c46e29a20269ff0d')}]\n"
     ]
    }
   ],
   "source": [
    "#7th question\n",
    "db = Client[\"engineer\"]\n",
    "exams_collection = db[\"exams\"]\n",
    "\n",
    "\n",
    "exam_data = [\n",
    "    {\"student_id\": 1, \"semester_id\": \"123456\",\"exam_name\":\"english\", \"marks\": 85,\"grade\":\"A\"},\n",
    "    {\"student_id\": 2,\"semester_id\": \"123456\",\"exam_name\":\"english\", \"marks\": 55,\"grade\":\"B\"},\n",
    "    {\"student_id\": 3, \"semester_id\": \"123458\",\"exam_name\":\"hindi\", \"marks\": 95,\"grade\":\"A\"},\n",
    "    {\"student_id\": 4, \"semester_id\": \"123457\",\"exam_name\":\"math\", \"marks\": 65,\"grade\":\"A\"},\n",
    "    {\"student_id\": 5, \"semester_id\": \"123450\",\"exam_name\":\"physics\", \"marks\": 85,\"grade\":\"A\"},\n",
    "    {\"student_id\": 6, \"semester_id\": \"123456\",\"exam_name\":\"drawing\", \"marks\": 85,\"grade\":\"A\"},\n",
    "   \n",
    "]\n",
    "\n",
    "exams_collection.insert_many(exam_data)\n",
    "print(\"Data inserted into 'exams' collection.\")\n",
    "print(exam_data)\n"
   ]
  },
  {
   "cell_type": "code",
   "execution_count": 26,
   "id": "301bff4e",
   "metadata": {},
   "outputs": [
    {
     "name": "stdout",
     "output_type": "stream",
     "text": [
      "All exams for student with ID 1:\n",
      "{'_id': ObjectId('660f9da4ab0010ec6b6c6f12'), 'student_id': 1, 'subject': 'Math', 'score': 85}\n",
      "{'_id': ObjectId('660f9da4ab0010ec6b6c6f13'), 'student_id': 1, 'subject': 'Physics', 'score': 78}\n",
      "{'_id': ObjectId('660f9da4ab0010ec6b6c6f14'), 'student_id': 1, 'subject': 'Chemistry', 'score': 90}\n",
      "{'_id': ObjectId('660f9f6dab0010ec6b6c6f1d'), 'student_id': 1, 'semester_id': '123456', 'exam_name': 'english', 'marks': 85, 'grade': 'A'}\n",
      "{'_id': ObjectId('660f9f7cab0010ec6b6c6f23'), 'student_id': 1, 'semester_id': '123456', 'exam_name': 'english', 'marks': 85, 'grade': 'A'}\n",
      "{'_id': ObjectId('66154ff0c46e29a20269ff08'), 'student_id': 1, 'semester_id': '123456', 'exam_name': 'english', 'marks': 85, 'grade': 'A'}\n"
     ]
    }
   ],
   "source": [
    "#8 th question\n",
    "import pymongo\n",
    "Client= pymongo.MongoClient(\"mongodb://localhost:27017/\")\n",
    "db=Client[\"engineer\"]\n",
    "exams_collection=db[\"exams\"]\n",
    "student_id=1\n",
    "\n",
    "query={'student_id':1}\n",
    "student_exams = exams_collection.find(query)\n",
    "\n",
    "\n",
    "print(f\"All exams for student with ID {student_id}:\")\n",
    "for exam in student_exams:\n",
    "    print(exam)"
   ]
  },
  {
   "cell_type": "code",
   "execution_count": 27,
   "id": "38f80a21",
   "metadata": {},
   "outputs": [
    {
     "name": "stdout",
     "output_type": "stream",
     "text": [
      "Highest marks obtained in exams: 92\n"
     ]
    }
   ],
   "source": [
    "#9th question\n",
    "db=Client[\"engineer\"]\n",
    "exams_collection=db[\"exams\"]\n",
    "pipeline = [\n",
    "    {\"$group\": {\"_id\": None, \"max_marks\": {\"$max\": \"$score\"}}}\n",
    "]\n",
    "\n",
    "# Execute the aggregation pipeline\n",
    "result = exams_collection.aggregate(pipeline)\n",
    "\n",
    "# Extract the maximum marks from the result\n",
    "max_marks = list(result)[0][\"max_marks\"]\n",
    "\n",
    "# Print the result\n",
    "print(\"Highest marks obtained in exams:\", max_marks)"
   ]
  },
  {
   "cell_type": "code",
   "execution_count": 28,
   "id": "f17f02d5",
   "metadata": {},
   "outputs": [
    {
     "name": "stdout",
     "output_type": "stream",
     "text": [
      "Exams with marks greater than 85:\n",
      "{'_id': ObjectId('660f9da4ab0010ec6b6c6f14'), 'student_id': 1, 'subject': 'Chemistry', 'score': 90}\n",
      "{'_id': ObjectId('660f9da4ab0010ec6b6c6f15'), 'student_id': 2, 'subject': 'Math', 'score': 92}\n",
      "{'_id': ObjectId('660f9da4ab0010ec6b6c6f16'), 'student_id': 2, 'subject': 'Physics', 'score': 88}\n"
     ]
    }
   ],
   "source": [
    "#10 th question \n",
    "threshold_score = 85\n",
    "\n",
    "# Query to find exams with marks greater than 85\n",
    "query = {\"score\": {\"$gt\": threshold_score}}\n",
    "exams_greater_than_85 = exams_collection.find(query)\n",
    "\n",
    "print(\"Exams with marks greater than 85:\")\n",
    "for exam in exams_greater_than_85:\n",
    "    print(exam)"
   ]
  },
  {
   "cell_type": "code",
   "execution_count": 30,
   "id": "be9d586a",
   "metadata": {},
   "outputs": [
    {
     "name": "stdout",
     "output_type": "stream",
     "text": [
      "Total marks obtained in all exams: 518\n"
     ]
    }
   ],
   "source": [
    "#11 th question\n",
    "\n",
    "db = Client[\"engineer\"]\n",
    "exams_collection = db[\"exams\"]\n",
    "pipeline = [\n",
    "    {\"$group\": {\"_id\": None, \"total_marks\": {\"$sum\": \"$score\"}}}\n",
    "]\n",
    "\n",
    "result = exams_collection.aggregate(pipeline)\n",
    "\n",
    "# Extract the total marks from the result\n",
    "total_marks = list(result)[0][\"total_marks\"]\n",
    "\n",
    "# Print the result\n",
    "print(\"Total marks obtained in all exams:\", total_marks)\n"
   ]
  },
  {
   "cell_type": "code",
   "execution_count": 31,
   "id": "690506c1",
   "metadata": {},
   "outputs": [
    {
     "name": "stdout",
     "output_type": "stream",
     "text": [
      "Students with the highest marks in each semester:\n",
      "{'max_score': 92, 'student_id': 1, 'semester': None}\n"
     ]
    }
   ],
   "source": [
    "#12 th questions\n",
    "pipeline = [\n",
    "    {\"$group\": {\"_id\": \"$semester\", \"max_score\": {\"$max\": \"$score\"}, \"student_id\": {\"$first\": \"$student_id\"}}},\n",
    "    {\"$project\": {\"_id\": 0, \"semester\": \"$_id\", \"max_score\": 1, \"student_id\": 1}}\n",
    "]\n",
    "\n",
    "result = exams_collection.aggregate(pipeline)\n",
    "\n",
    "# Print the result\n",
    "print(\"Students with the highest marks in each semester:\")\n",
    "for doc in result:\n",
    "    print(doc)"
   ]
  },
  {
   "cell_type": "code",
   "execution_count": null,
   "id": "ad4ebf17",
   "metadata": {},
   "outputs": [],
   "source": []
  },
  {
   "cell_type": "code",
   "execution_count": null,
   "id": "4203321f",
   "metadata": {},
   "outputs": [],
   "source": []
  },
  {
   "cell_type": "code",
   "execution_count": null,
   "id": "5042c4a6",
   "metadata": {},
   "outputs": [],
   "source": []
  },
  {
   "cell_type": "code",
   "execution_count": null,
   "id": "55617207",
   "metadata": {},
   "outputs": [],
   "source": []
  },
  {
   "cell_type": "code",
   "execution_count": null,
   "id": "24cdd55c",
   "metadata": {},
   "outputs": [],
   "source": []
  }
 ],
 "metadata": {
  "kernelspec": {
   "display_name": "Python 3 (ipykernel)",
   "language": "python",
   "name": "python3"
  },
  "language_info": {
   "codemirror_mode": {
    "name": "ipython",
    "version": 3
   },
   "file_extension": ".py",
   "mimetype": "text/x-python",
   "name": "python",
   "nbconvert_exporter": "python",
   "pygments_lexer": "ipython3",
   "version": "3.11.5"
  }
 },
 "nbformat": 4,
 "nbformat_minor": 5
}
